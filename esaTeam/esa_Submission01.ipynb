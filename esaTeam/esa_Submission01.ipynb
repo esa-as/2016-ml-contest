{
 "cells": [
  {
   "cell_type": "markdown",
   "metadata": {},
   "source": [
    "\n",
    "# Facies classification using machine learning techniques\n",
    "The ideas of \n",
    "<a href=\"https://home.deib.polimi.it/bestagini/\">Paolo Bestagini's</a> \"Try 2\", <a href=\"https://github.com/ar4\">Alan Richardson's</a> \"Try 2\",\n",
    "<a href=\"https://github.com/dalide\">Dalide's</a> \"Try 6\", augmented, by Dimitrios Oikonomou and Eirik Larsen (ESA AS) by \n",
    "\n",
    "- adding the gradient of gradient of features as augmented features.\n",
    "- with an ML estimator for PE using both training and blind well data.\n",
    "- removing the NM_M from augmented features. \n",
    " \n",
    "In the following, we provide a possible solution to the facies classification problem described at https://github.com/seg/2016-ml-contest.\n",
    "\n",
    "The proposed algorithm is based on the use of random forests, xgboost or gradient boost combined in one-vs-one multiclass strategy. In particular, we would like to study the effect of:\n",
    "- Robust feature normalization.\n",
    "- Feature imputation for missing feature values.\n",
    "- Well-based cross-validation routines.\n",
    "- Feature augmentation strategies.\n",
    "- Test multiple classifiers \n"
   ]
  },
  {
   "cell_type": "markdown",
   "metadata": {},
   "source": [
    "# Script initialization\n",
    "Let's import the used packages and define some parameters (e.g., colors, labels, etc.)."
   ]
  },
  {
   "cell_type": "code",
   "execution_count": 1,
   "metadata": {
    "collapsed": false
   },
   "outputs": [
    {
     "name": "stderr",
     "output_type": "stream",
     "text": [
      "/usr/local/lib/python2.7/dist-packages/sklearn/cross_validation.py:44: DeprecationWarning: This module was deprecated in version 0.18 in favor of the model_selection module into which all the refactored classes and functions are moved. Also note that the interface of the new CV iterators are different from that of this module. This module will be removed in 0.20.\n",
      "  \"This module will be removed in 0.20.\", DeprecationWarning)\n"
     ]
    }
   ],
   "source": [
    "# Import\n",
    "from __future__ import division\n",
    "get_ipython().magic(u'matplotlib inline')\n",
    "import matplotlib as mpl\n",
    "\n",
    "import matplotlib.pyplot as plt\n",
    "mpl.rcParams['figure.figsize'] = (20.0, 10.0)\n",
    "inline_rc = dict(mpl.rcParams)\n",
    "from classification_utilities import make_facies_log_plot\n",
    "\n",
    "import pandas as pd\n",
    "import numpy as np\n",
    "import seaborn as sns\n",
    "\n",
    "from sklearn import preprocessing\n",
    "from sklearn.model_selection import LeavePGroupsOut\n",
    "from sklearn.metrics import f1_score\n",
    "from sklearn.model_selection import GridSearchCV\n",
    "from sklearn.multiclass import OneVsOneClassifier\n",
    "from sklearn.ensemble import RandomForestClassifier, RandomForestRegressor, GradientBoostingClassifier \n",
    "import xgboost as xgb\n",
    "from xgboost.sklearn import XGBClassifier\n",
    "\n",
    "from scipy.signal import medfilt"
   ]
  },
  {
   "cell_type": "code",
   "execution_count": 2,
   "metadata": {
    "collapsed": false
   },
   "outputs": [
    {
     "name": "stdout",
     "output_type": "stream",
     "text": [
      "Python:  2.7.12 (default, Nov 19 2016, 06:48:10) \n",
      "         2.7.12 (default, Nov 19 2016, 06:48:10) \n",
      "Pandas:  0.19.2\n",
      "Numpy:   1.12.0\n",
      "Scipy:   0.18.1\n",
      "Sklearn: 0.18.1\n",
      "Xgboost: 0.6\n"
     ]
    }
   ],
   "source": [
    "import sys, scipy, sklearn\n",
    "print('Python:  ' + sys.version.split('\\n')[0])\n",
    "print('         ' + sys.version.split('\\n')[0])\n",
    "print('Pandas:  ' + pd.__version__)\n",
    "print('Numpy:   ' + np.__version__)\n",
    "print('Scipy:   ' + scipy.__version__)\n",
    "print('Sklearn: ' + sklearn.__version__)\n",
    "print('Xgboost: ' + xgb.__version__)"
   ]
  },
  {
   "cell_type": "markdown",
   "metadata": {},
   "source": [
    "### Parameters"
   ]
  },
  {
   "cell_type": "code",
   "execution_count": 3,
   "metadata": {
    "collapsed": true
   },
   "outputs": [],
   "source": [
    "feature_names = ['GR', 'ILD_log10', 'DeltaPHI', 'PHIND', 'PE', 'NM_M', 'RELPOS']\n",
    "facies_names = ['SS', 'CSiS', 'FSiS', 'SiSh', 'MS', 'WS', 'D', 'PS', 'BS']\n",
    "facies_colors = ['#F4D03F', '#F5B041','#DC7633','#6E2C00', '#1B4F72','#2E86C1', '#AED6F1', '#A569BD', '#196F3D']\n",
    "\n",
    "#Select classifier type\n",
    "\n",
    "#clfType='RF'  #Random Forest clasifier\n",
    "#clfType='GB'  #Gradient Boosting Classifier\n",
    "#clfType='XB'  #XGB Clasifier\n",
    "clfType='XBA'  #XGB Clasifier\n",
    "\n",
    "#Seed\n",
    "seed = 24\n",
    "np.random.seed(seed)"
   ]
  },
  {
   "cell_type": "markdown",
   "metadata": {},
   "source": [
    "# Load data\n",
    "Let's load the data"
   ]
  },
  {
   "cell_type": "code",
   "execution_count": 4,
   "metadata": {
    "collapsed": false
   },
   "outputs": [],
   "source": [
    "# Load data from file\n",
    "data = pd.read_csv('../facies_vectors.csv')\n",
    "\n",
    "# Load Test data from file\n",
    "test_data = pd.read_csv('../validation_data_nofacies.csv') \n",
    "test_data.insert(0,'Facies',np.ones(test_data.shape[0])*(-1))\n",
    "\n",
    "#Create Dataset for PE prediction from both dasets\n",
    "all_data=pd.concat([data,test_data])"
   ]
  },
  {
   "cell_type": "markdown",
   "metadata": {},
   "source": [
    "#### Let's store features, labels and other data into numpy arrays.\n"
   ]
  },
  {
   "cell_type": "code",
   "execution_count": 5,
   "metadata": {
    "collapsed": true
   },
   "outputs": [],
   "source": [
    "# Store features and labels\n",
    "X = data[feature_names].values  # features\n",
    "\n",
    "y = data['Facies'].values  # labels\n",
    "\n",
    "# Store well labels and depths\n",
    "well = data['Well Name'].values\n",
    "depth = data['Depth'].values\n"
   ]
  },
  {
   "cell_type": "markdown",
   "metadata": {},
   "source": [
    "# Data inspection\n",
    "Let us inspect the features we are working with. This step is useful to understand how to normalize them and how to devise a correct cross-validation strategy. Specifically, it is possible to observe that:\n",
    " - Some features seem to be affected by a few outlier measurements.\n",
    " - Only a few wells contain samples from all classes.\n",
    " - PE measurements are available only for some wells."
   ]
  },
  {
   "cell_type": "code",
   "execution_count": 6,
   "metadata": {
    "collapsed": true
   },
   "outputs": [],
   "source": [
    "# Define function for plotting feature statistics\n",
    "def plot_feature_stats(X, y, feature_names, facies_colors, facies_names):\n",
    "    \n",
    "    # Remove NaN\n",
    "    nan_idx = np.any(np.isnan(X), axis=1)\n",
    "    X = X[np.logical_not(nan_idx), :]\n",
    "    y = y[np.logical_not(nan_idx)]\n",
    "    \n",
    "    # Merge features and labels into a single DataFrame\n",
    "    features = pd.DataFrame(X, columns=feature_names)\n",
    "    labels = pd.DataFrame(y, columns=['Facies'])\n",
    "    for f_idx, facies in enumerate(facies_names):\n",
    "        labels[labels[:] == f_idx] = facies\n",
    "    data = pd.concat((labels, features), axis=1)\n",
    "\n",
    "    # Plot features statistics\n",
    "    facies_color_map = {}\n",
    "    for ind, label in enumerate(facies_names):\n",
    "        facies_color_map[label] = facies_colors[ind]\n",
    "\n",
    "    sns.pairplot(data, hue='Facies', palette=facies_color_map, hue_order=list(reversed(facies_names)))"
   ]
  },
  {
   "cell_type": "markdown",
   "metadata": {},
   "source": [
    "## Feature distribution\n",
    "plot_feature_stats(X, y, feature_names, facies_colors, facies_names)\n",
    "mpl.rcParams.update(inline_rc)\n"
   ]
  },
  {
   "cell_type": "code",
   "execution_count": 7,
   "metadata": {
    "collapsed": false
   },
   "outputs": [
    {
     "data": {
      "image/png": "[encoded data removed]",
      "text/plain": [
       "<matplotlib.figure.Figure at 0x7f55ad08ab50>"
      ]
     },
     "metadata": {},
     "output_type": "display_data"
    }
   ],
   "source": [
    "# Facies per well\n",
    "for w_idx, w in enumerate(np.unique(well)):\n",
    "    ax = plt.subplot(3, 4, w_idx+1)\n",
    "    hist = np.histogram(y[well == w], bins=np.arange(len(facies_names)+1)+.5)\n",
    "    plt.bar(np.arange(len(hist[0])), hist[0], color=facies_colors, align='center')\n",
    "    ax.set_xticks(np.arange(len(hist[0])))\n",
    "    ax.set_xticklabels(facies_names)\n",
    "    ax.set_title(w)\n",
    "\n",
    " \n",
    "# Features per well\n",
    "for w_idx, w in enumerate(np.unique(well)):\n",
    "    ax = plt.subplot(3, 4, w_idx+1)\n",
    "    hist = np.logical_not(np.any(np.isnan(X[well == w, :]), axis=0))\n",
    "    plt.bar(np.arange(len(hist)), hist, color=facies_colors, align='center')\n",
    "    ax.set_xticks(np.arange(len(hist)))\n",
    "    ax.set_xticklabels(feature_names)\n",
    "    ax.set_yticks([0, 1])\n",
    "    ax.set_yticklabels(['miss', 'hit'])\n",
    "    ax.set_title(w)"
   ]
  },
  {
   "cell_type": "markdown",
   "metadata": {},
   "source": [
    "\n",
    "## Feature imputation\n",
    "Let us fill missing PE values. Currently no feature engineering is used, but this should be explored in the future."
   ]
  },
  {
   "cell_type": "code",
   "execution_count": 8,
   "metadata": {
    "collapsed": false
   },
   "outputs": [],
   "source": [
    "reg = RandomForestRegressor(max_features='sqrt', n_estimators=50, random_state=seed)\n",
    "\n",
    "DataImpAll = all_data[feature_names].copy()\n",
    "DataImp = DataImpAll.dropna(axis = 0, inplace=False)\n",
    "Ximp=DataImp.loc[:, DataImp.columns != 'PE']\n",
    "Yimp=DataImp.loc[:, 'PE']\n",
    "reg.fit(Ximp, Yimp)\n",
    "X[np.array(data.PE.isnull()),feature_names.index('PE')] = reg.predict(data.loc[data.PE.isnull(),:][['GR', 'ILD_log10', 'DeltaPHI', 'PHIND',  'NM_M', 'RELPOS']])\n"
   ]
  },
  {
   "cell_type": "markdown",
   "metadata": {},
   "source": [
    "# Augment features"
   ]
  },
  {
   "cell_type": "code",
   "execution_count": 9,
   "metadata": {
    "collapsed": true
   },
   "outputs": [],
   "source": [
    "# ## Feature augmentation\n",
    "# Our guess is that facies do not abrutly change from a given depth layer to the next one. Therefore, we consider features at neighboring layers to be somehow correlated. To possibly exploit this fact, let us perform feature augmentation by:\n",
    "# - Select features to augment.\n",
    "# - Aggregating aug_features at neighboring depths.\n",
    "# - Computing aug_features spatial gradient.\n",
    "# - Computing aug_features spatial gradient of gradient."
   ]
  },
  {
   "cell_type": "code",
   "execution_count": 10,
   "metadata": {
    "collapsed": true
   },
   "outputs": [],
   "source": [
    "\n",
    "# Feature windows concatenation function\n",
    "def augment_features_window(X, N_neig, features=-1):\n",
    "    \n",
    "    # Parameters\n",
    "    N_row = X.shape[0]\n",
    "    if features==-1:\n",
    "        N_feat = X.shape[1]\n",
    "        features=np.arange(0,X.shape[1])\n",
    "    else:\n",
    "        N_feat = len(features)\n",
    "\n",
    "    # Zero padding\n",
    "    X = np.vstack((np.zeros((N_neig, X.shape[1])), X, (np.zeros((N_neig, X.shape[1])))))\n",
    "\n",
    "    # Loop over windows\n",
    "    X_aug = np.zeros((N_row, N_feat*(2*N_neig)+X.shape[1]))\n",
    "    for r in np.arange(N_row)+N_neig:\n",
    "        this_row = []\n",
    "        for c in np.arange(-N_neig,N_neig+1):\n",
    "            if (c==0):\n",
    "                this_row = np.hstack((this_row, X[r+c,:]))\n",
    "            else:\n",
    "                this_row = np.hstack((this_row, X[r+c,features]))\n",
    "        X_aug[r-N_neig] = this_row\n",
    "\n",
    "    return X_aug\n",
    "\n",
    "\n",
    "# Feature gradient computation function\n",
    "def augment_features_gradient(X, depth, features=-1):\n",
    "    \n",
    "    if features==-1:\n",
    "        features=np.arange(0,X.shape[1])\n",
    "    # Compute features gradient\n",
    "    d_diff = np.diff(depth).reshape((-1, 1))\n",
    "    d_diff[d_diff==0] = 0.001\n",
    "    X_diff = np.diff(X[:,features], axis=0)\n",
    "    X_grad = X_diff / d_diff\n",
    "        \n",
    "    # Compensate for last missing value\n",
    "    X_grad = np.concatenate((X_grad, np.zeros((1, X_grad.shape[1]))))\n",
    "    \n",
    "    return X_grad\n",
    "\n"
   ]
  },
  {
   "cell_type": "code",
   "execution_count": 11,
   "metadata": {
    "collapsed": true
   },
   "outputs": [],
   "source": [
    "# Feature augmentation function\n",
    "def augment_features(X, well, depth, N_neig=1, features=-1):\n",
    "    \n",
    "    if (features==-1):\n",
    "        N_Feat=X.shape[1]\n",
    "    else:\n",
    "        N_Feat=len(features)\n",
    "    # Augment features\n",
    "    X_aug = np.zeros((X.shape[0], X.shape[1] + N_Feat*(N_neig*2+2)))\n",
    "    for w in np.unique(well):\n",
    "        w_idx = np.where(well == w)[0]\n",
    "        X_aug_win = augment_features_window(X[w_idx, :], N_neig,features)\n",
    "        X_aug_grad = augment_features_gradient(X[w_idx, :], depth[w_idx],features)\n",
    "        X_aug_grad_grad = augment_features_gradient(X_aug_grad, depth[w_idx])\n",
    "        X_aug[w_idx, :] = np.concatenate((X_aug_win, X_aug_grad,X_aug_grad_grad), axis=1)\n",
    "    \n",
    "    # Find padded rows\n",
    "    padded_rows = np.unique(np.where(X_aug[:, 0:7] == np.zeros((1, 7)))[0])\n",
    "    \n",
    "    return X_aug, padded_rows\n"
   ]
  },
  {
   "cell_type": "code",
   "execution_count": 12,
   "metadata": {
    "collapsed": true
   },
   "outputs": [],
   "source": [
    "# Train and test a classifier\n",
    "def train_and_test(X_tr, y_tr, X_v, well_v, clf):\n",
    "    # Feature normalization\n",
    "    scaler = preprocessing.RobustScaler(quantile_range=(25.0, 75.0)).fit(X_tr)\n",
    "    X_tr = scaler.transform(X_tr)\n",
    "    X_v = scaler.transform(X_v)\n",
    "    \n",
    "    # Train classifier\n",
    "    clf.fit(X_tr, y_tr)\n",
    "    \n",
    "    # Test classifier\n",
    "    y_v_hat = clf.predict(X_v)\n",
    "    \n",
    "    # Clean isolated facies for each well\n",
    "    for w in np.unique(well_v):\n",
    "        y_v_hat[well_v==w] = medfilt(y_v_hat[well_v==w], kernel_size=3)\n",
    "  \n",
    "    return y_v_hat"
   ]
  },
  {
   "cell_type": "code",
   "execution_count": 13,
   "metadata": {
    "collapsed": false
   },
   "outputs": [],
   "source": [
    "# Define window length\n",
    "N_neig=1\n",
    "\n",
    "# Define which features to augment by introducing window and gradients.\n",
    "augm_Features=['GR', 'ILD_log10', 'DeltaPHI', 'PHIND', 'PE', 'RELPOS']\n",
    "\n",
    "# Get the columns of features to be augmented \n",
    "feature_indices=[feature_names.index(log) for log in augm_Features]\n",
    "\n",
    "# Augment features\n",
    "X_aug, padded_rows = augment_features(X, well, depth, N_neig=N_neig, features=feature_indices)\n",
    "\n",
    "# Remove padded rows \n",
    "data_no_pad = np.setdiff1d(np.arange(0,X_aug.shape[0]), padded_rows)\n",
    "\n",
    "X=X[data_no_pad ,:]\n",
    "depth=depth[data_no_pad]\n",
    "X_aug=X_aug[data_no_pad ,:]\n",
    "y=y[data_no_pad]\n",
    "data=data.iloc[data_no_pad ,:]\n",
    "well=well[data_no_pad]\n"
   ]
  },
  {
   "cell_type": "markdown",
   "metadata": {},
   "source": [
    "## Generate training, validation and test data splitsar4_submission_withFac.ipynb\n",
    "The choice of training and validation data is paramount in order to avoid overfitting and find a solution that generalizes well on new data. For this reason, we generate a set of training-validation splits so that:\n",
    "- Features from each well belongs to training or validation set.\n",
    "- Training and validation sets contain at least one sample for each class."
   ]
  },
  {
   "cell_type": "markdown",
   "metadata": {},
   "source": [
    "# Initialize model selection methods"
   ]
  },
  {
   "cell_type": "code",
   "execution_count": 14,
   "metadata": {
    "collapsed": false
   },
   "outputs": [
    {
     "name": "stdout",
     "output_type": "stream",
     "text": [
      "Split 0\n",
      "    training:   ['SHRIMPLIN' 'SHANKLE' 'LUKE G U' 'KIMZEY A' 'CROSS H CATTLE' 'NOLAN'\n",
      " 'Recruit F9' 'NEWBY']\n",
      "    validation: ['ALEXANDER D' 'CHURCHMAN BIBLE']\n",
      "Split 1\n",
      "    training:   ['SHRIMPLIN' 'SHANKLE' 'LUKE G U' 'KIMZEY A' 'NOLAN' 'Recruit F9' 'NEWBY'\n",
      " 'CHURCHMAN BIBLE']\n",
      "    validation: ['ALEXANDER D' 'CROSS H CATTLE']\n",
      "Split 2\n",
      "    training:   ['SHRIMPLIN' 'SHANKLE' 'LUKE G U' 'CROSS H CATTLE' 'NOLAN' 'Recruit F9'\n",
      " 'NEWBY' 'CHURCHMAN BIBLE']\n",
      "    validation: ['ALEXANDER D' 'KIMZEY A']\n",
      "Split 3\n",
      "    training:   ['SHRIMPLIN' 'SHANKLE' 'LUKE G U' 'KIMZEY A' 'CROSS H CATTLE' 'Recruit F9'\n",
      " 'NEWBY' 'CHURCHMAN BIBLE']\n",
      "    validation: ['ALEXANDER D' 'NOLAN']\n",
      "Split 4\n",
      "    training:   ['SHRIMPLIN' 'LUKE G U' 'KIMZEY A' 'CROSS H CATTLE' 'NOLAN' 'Recruit F9'\n",
      " 'NEWBY' 'CHURCHMAN BIBLE']\n",
      "    validation: ['ALEXANDER D' 'SHANKLE']\n",
      "Split 5\n",
      "    training:   ['SHRIMPLIN' 'ALEXANDER D' 'SHANKLE' 'LUKE G U' 'KIMZEY A' 'NOLAN'\n",
      " 'Recruit F9' 'NEWBY']\n",
      "    validation: ['CROSS H CATTLE' 'CHURCHMAN BIBLE']\n",
      "Split 6\n",
      "    training:   ['SHRIMPLIN' 'ALEXANDER D' 'SHANKLE' 'LUKE G U' 'CROSS H CATTLE' 'NOLAN'\n",
      " 'Recruit F9' 'NEWBY']\n",
      "    validation: ['KIMZEY A' 'CHURCHMAN BIBLE']\n",
      "Split 7\n",
      "    training:   ['SHRIMPLIN' 'ALEXANDER D' 'SHANKLE' 'KIMZEY A' 'CROSS H CATTLE' 'NOLAN'\n",
      " 'Recruit F9' 'NEWBY']\n",
      "    validation: ['LUKE G U' 'CHURCHMAN BIBLE']\n",
      "Split 8\n",
      "    training:   ['SHRIMPLIN' 'ALEXANDER D' 'SHANKLE' 'LUKE G U' 'KIMZEY A' 'CROSS H CATTLE'\n",
      " 'NOLAN' 'Recruit F9']\n",
      "    validation: ['NEWBY' 'CHURCHMAN BIBLE']\n",
      "Split 9\n",
      "    training:   ['SHRIMPLIN' 'ALEXANDER D' 'SHANKLE' 'LUKE G U' 'KIMZEY A' 'CROSS H CATTLE'\n",
      " 'Recruit F9' 'NEWBY']\n",
      "    validation: ['NOLAN' 'CHURCHMAN BIBLE']\n",
      "Split 10\n",
      "    training:   ['SHRIMPLIN' 'ALEXANDER D' 'SHANKLE' 'LUKE G U' 'KIMZEY A' 'CROSS H CATTLE'\n",
      " 'NOLAN' 'NEWBY']\n",
      "    validation: ['Recruit F9' 'CHURCHMAN BIBLE']\n",
      "Split 11\n",
      "    training:   ['SHRIMPLIN' 'ALEXANDER D' 'LUKE G U' 'KIMZEY A' 'CROSS H CATTLE' 'NOLAN'\n",
      " 'Recruit F9' 'NEWBY']\n",
      "    validation: ['SHANKLE' 'CHURCHMAN BIBLE']\n",
      "Split 12\n",
      "    training:   ['ALEXANDER D' 'SHANKLE' 'LUKE G U' 'KIMZEY A' 'CROSS H CATTLE' 'NOLAN'\n",
      " 'Recruit F9' 'NEWBY']\n",
      "    validation: ['SHRIMPLIN' 'CHURCHMAN BIBLE']\n",
      "Split 13\n",
      "    training:   ['SHRIMPLIN' 'ALEXANDER D' 'SHANKLE' 'LUKE G U' 'NOLAN' 'Recruit F9'\n",
      " 'NEWBY' 'CHURCHMAN BIBLE']\n",
      "    validation: ['KIMZEY A' 'CROSS H CATTLE']\n",
      "Split 14\n",
      "    training:   ['SHRIMPLIN' 'ALEXANDER D' 'SHANKLE' 'LUKE G U' 'KIMZEY A' 'NOLAN'\n",
      " 'Recruit F9' 'CHURCHMAN BIBLE']\n",
      "    validation: ['CROSS H CATTLE' 'NEWBY']\n",
      "Split 15\n",
      "    training:   ['SHRIMPLIN' 'ALEXANDER D' 'SHANKLE' 'LUKE G U' 'KIMZEY A' 'NOLAN' 'NEWBY'\n",
      " 'CHURCHMAN BIBLE']\n",
      "    validation: ['CROSS H CATTLE' 'Recruit F9']\n",
      "Split 16\n",
      "    training:   ['ALEXANDER D' 'SHANKLE' 'LUKE G U' 'KIMZEY A' 'NOLAN' 'Recruit F9' 'NEWBY'\n",
      " 'CHURCHMAN BIBLE']\n",
      "    validation: ['SHRIMPLIN' 'CROSS H CATTLE']\n",
      "Split 17\n",
      "    training:   ['SHRIMPLIN' 'ALEXANDER D' 'SHANKLE' 'CROSS H CATTLE' 'NOLAN' 'Recruit F9'\n",
      " 'NEWBY' 'CHURCHMAN BIBLE']\n",
      "    validation: ['LUKE G U' 'KIMZEY A']\n",
      "Split 18\n",
      "    training:   ['SHRIMPLIN' 'ALEXANDER D' 'SHANKLE' 'LUKE G U' 'CROSS H CATTLE' 'NOLAN'\n",
      " 'Recruit F9' 'CHURCHMAN BIBLE']\n",
      "    validation: ['KIMZEY A' 'NEWBY']\n",
      "Split 19\n",
      "    training:   ['SHRIMPLIN' 'ALEXANDER D' 'SHANKLE' 'LUKE G U' 'CROSS H CATTLE'\n",
      " 'Recruit F9' 'NEWBY' 'CHURCHMAN BIBLE']\n",
      "    validation: ['KIMZEY A' 'NOLAN']\n",
      "Split 20\n",
      "    training:   ['SHRIMPLIN' 'ALEXANDER D' 'SHANKLE' 'LUKE G U' 'CROSS H CATTLE' 'NOLAN'\n",
      " 'NEWBY' 'CHURCHMAN BIBLE']\n",
      "    validation: ['KIMZEY A' 'Recruit F9']\n",
      "Split 21\n",
      "    training:   ['SHRIMPLIN' 'ALEXANDER D' 'LUKE G U' 'CROSS H CATTLE' 'NOLAN' 'Recruit F9'\n",
      " 'NEWBY' 'CHURCHMAN BIBLE']\n",
      "    validation: ['SHANKLE' 'KIMZEY A']\n",
      "Split 22\n",
      "    training:   ['ALEXANDER D' 'SHANKLE' 'LUKE G U' 'CROSS H CATTLE' 'NOLAN' 'Recruit F9'\n",
      " 'NEWBY' 'CHURCHMAN BIBLE']\n",
      "    validation: ['SHRIMPLIN' 'KIMZEY A']\n",
      "Split 23\n",
      "    training:   ['SHRIMPLIN' 'ALEXANDER D' 'SHANKLE' 'LUKE G U' 'KIMZEY A' 'CROSS H CATTLE'\n",
      " 'Recruit F9' 'CHURCHMAN BIBLE']\n",
      "    validation: ['NOLAN' 'NEWBY']\n",
      "Split 24\n",
      "    training:   ['SHRIMPLIN' 'ALEXANDER D' 'LUKE G U' 'KIMZEY A' 'CROSS H CATTLE' 'NOLAN'\n",
      " 'Recruit F9' 'CHURCHMAN BIBLE']\n",
      "    validation: ['SHANKLE' 'NEWBY']\n",
      "Split 25\n",
      "    training:   ['SHRIMPLIN' 'ALEXANDER D' 'SHANKLE' 'LUKE G U' 'KIMZEY A' 'CROSS H CATTLE'\n",
      " 'NEWBY' 'CHURCHMAN BIBLE']\n",
      "    validation: ['NOLAN' 'Recruit F9']\n",
      "Split 26\n",
      "    training:   ['ALEXANDER D' 'SHANKLE' 'LUKE G U' 'KIMZEY A' 'CROSS H CATTLE'\n",
      " 'Recruit F9' 'NEWBY' 'CHURCHMAN BIBLE']\n",
      "    validation: ['SHRIMPLIN' 'NOLAN']\n",
      "Split 27\n",
      "    training:   ['SHRIMPLIN' 'ALEXANDER D' 'LUKE G U' 'KIMZEY A' 'CROSS H CATTLE' 'NOLAN'\n",
      " 'NEWBY' 'CHURCHMAN BIBLE']\n",
      "    validation: ['SHANKLE' 'Recruit F9']\n",
      "Split 28\n",
      "    training:   ['ALEXANDER D' 'LUKE G U' 'KIMZEY A' 'CROSS H CATTLE' 'NOLAN' 'Recruit F9'\n",
      " 'NEWBY' 'CHURCHMAN BIBLE']\n",
      "    validation: ['SHRIMPLIN' 'SHANKLE']\n"
     ]
    }
   ],
   "source": [
    "lpgo = LeavePGroupsOut(2)\n",
    "\n",
    "# Generate splits\n",
    "split_list = []\n",
    "for train, val in lpgo.split(X, y, groups=data['Well Name']):\n",
    "    hist_tr = np.histogram(y[train], bins=np.arange(len(facies_names)+1)+.5)\n",
    "    hist_val = np.histogram(y[val], bins=np.arange(len(facies_names)+1)+.5)\n",
    "    if np.all(hist_tr[0] != 0) & np.all(hist_val[0] != 0):\n",
    "        split_list.append({'train':train, 'val':val})\n",
    "            \n",
    "# Print splits\n",
    "for s, split in enumerate(split_list):\n",
    "    print('Split %d' % s)\n",
    "    print('    training:   %s' % (data.iloc[split['train']]['Well Name'].unique()))\n",
    "    print('    validation: %s' % (data.iloc[split['val']]['Well Name'].unique()))"
   ]
  },
  {
   "cell_type": "markdown",
   "metadata": {},
   "source": [
    "## Classification parameters optimization\n",
    "Let us perform the following steps for each set of parameters:\n",
    "\n",
    "- Select a data split.\n",
    "- Normalize features using a robust scaler.\n",
    "- Train the classifier on training data.\n",
    "- Test the trained classifier on validation data.\n",
    "- Repeat for all splits and average the F1 scores. \n",
    "At the end of the loop, we select the classifier that maximizes the average F1 score on the validation set. Hopefully, this classifier should be able to generalize well on new data."
   ]
  },
  {
   "cell_type": "code",
   "execution_count": 15,
   "metadata": {
    "collapsed": false
   },
   "outputs": [],
   "source": [
    "\n",
    "if clfType=='XB':\n",
    "    md_grid = [3]\n",
    "    mcw_grid = [1]\n",
    "    gamma_grid = [0.3]  \n",
    "    ss_grid = [0.7] \n",
    "    csb_grid = [0.8]\n",
    "    alpha_grid =[0.2]\n",
    "    lr_grid = [0.05]\n",
    "    ne_grid = [200]\n",
    "    param_grid = []\n",
    "    for N in md_grid:\n",
    "        for M in mcw_grid:\n",
    "            for S in gamma_grid:\n",
    "                for L in ss_grid:\n",
    "                    for K in csb_grid:\n",
    "                        for P in alpha_grid:\n",
    "                            for R in lr_grid:\n",
    "                                for E in ne_grid:\n",
    "                                    param_grid.append({'maxdepth':N, \n",
    "                                                       'minchildweight':M, \n",
    "                                                       'gamma':S, \n",
    "                                                       'subsample':L,\n",
    "                                                       'colsamplebytree':K,\n",
    "                                                       'alpha':P,\n",
    "                                                       'learningrate':R,\n",
    "                                                       'n_estimators':E})\n",
    "                                    \n",
    "if clfType=='XBA':\n",
    "    \n",
    "    learning_rate=0.1\n",
    "    max_depth=3\n",
    "    min_child_weight=12\n",
    "    colsample_bytree = 0.7\n",
    "    n_estimators=150\n",
    "    \n",
    "    param_grid = []\n",
    "    param_grid.append({'maxdepth':max_depth, \n",
    "                       'minchildweight':min_child_weight, \n",
    "                       'colsamplebytree':colsample_bytree,\n",
    "                       'learningrate':learning_rate,\n",
    "                       'n_estimators':n_estimators})\n",
    "\n",
    "if clfType=='RF':\n",
    "    N_grid = [100]  # [50, 100, 150]\n",
    "    M_grid = [10]  # [5, 10, 15]\n",
    "    S_grid = [25]  # [10, 25, 50, 75]\n",
    "    L_grid = [5] # [2, 3, 4, 5, 10, 25]\n",
    "    param_grid = []\n",
    "    for N in N_grid:\n",
    "        for M in M_grid:\n",
    "            for S in S_grid:\n",
    "                for L in L_grid:\n",
    "                    param_grid.append({'N':N, 'M':M, 'S':S, 'L':L})\n",
    "                    \n",
    "if clfType=='GB':\n",
    "    N_grid = [100]  \n",
    "    MD_grid = [3]  \n",
    "    M_grid = [10]\n",
    "    LR_grid = [0.1]  \n",
    "    L_grid = [5]\n",
    "    S_grid = [25]  \n",
    "    param_grid = []\n",
    "    for N in N_grid:\n",
    "        for M in MD_grid:\n",
    "            for M1 in M_grid:\n",
    "                for S in LR_grid: \n",
    "                    for L in L_grid:\n",
    "                        for S1 in S_grid:\n",
    "                            param_grid.append({'N':N, 'MD':M, 'MF':M1,'LR':S,'L':L,'S1':S1})\n",
    "\n"
   ]
  },
  {
   "cell_type": "code",
   "execution_count": null,
   "metadata": {
    "collapsed": false
   },
   "outputs": [],
   "source": [
    "def getClf(clfType, param):\n",
    "    if clfType=='RF':\n",
    "         clf = OneVsOneClassifier(RandomForestClassifier(n_estimators=param['N'], criterion='entropy',\n",
    "                             max_features=param['M'], min_samples_split=param['S'], min_samples_leaf=param['L'],\n",
    "                             class_weight='balanced', random_state=seed), n_jobs=-1)\n",
    "    if clfType=='XB':\n",
    "            clf = OneVsOneClassifier(XGBClassifier(\n",
    "                learning_rate = param['learningrate'],\n",
    "                n_estimators=param['n_estimators'],\n",
    "                max_depth=param['maxdepth'],\n",
    "                min_child_weight=param['minchildweight'],\n",
    "                gamma = param['gamma'],\n",
    "                subsample=param['subsample'],\n",
    "                colsample_bytree=param['colsamplebytree'],\n",
    "                reg_alpha = param['alpha'],\n",
    "                nthread =4,\n",
    "                seed = seed,\n",
    "            ) , n_jobs=-1)\n",
    "\n",
    "            \n",
    "       \n",
    "    if clfType=='XBA':\n",
    "            clf = XGBClassifier(\n",
    "                learning_rate = param['learningrate'],\n",
    "                n_estimators=param['n_estimators'],\n",
    "                max_depth=param['maxdepth'],\n",
    "                min_child_weight=param['minchildweight'],\n",
    "                colsample_bytree=param['colsamplebytree'],\n",
    "                nthread =4,\n",
    "                seed = 17\n",
    "            )             \n",
    "    if clfType=='GB':\n",
    "        clf=OneVsOneClassifier(GradientBoostingClassifier(\n",
    "                loss='exponential',\n",
    "                n_estimators=param['N'], \n",
    "                learning_rate=param['LR'], \n",
    "                max_depth=param['MD'],\n",
    "                max_features= param['MF'],\n",
    "                min_samples_leaf=param['L'],\n",
    "                min_samples_split=param['S1'],\n",
    "                random_state=seed, \n",
    "                max_leaf_nodes=None,)\n",
    "                               , n_jobs=-1)\n",
    "    return clf"
   ]
  },
  {
   "cell_type": "code",
   "execution_count": null,
   "metadata": {
    "collapsed": false
   },
   "outputs": [
    {
     "name": "stdout",
     "output_type": "stream",
     "text": [
      "features: 31\n"
     ]
    }
   ],
   "source": [
    "# For each set of parameters\n",
    "score_param = []\n",
    "for param in param_grid:\n",
    "    print('features: %d' % X_aug.shape[1])\n",
    "    # For each data split\n",
    "    score_split = []\n",
    "    for split in split_list:\n",
    "    \n",
    "        split_train_no_pad = split['train']\n",
    "        \n",
    "        # Select training and validation data from current split\n",
    "        X_tr = X_aug[split_train_no_pad, :]\n",
    "        X_v = X_aug[split['val'], :]\n",
    "        y_tr = y[split_train_no_pad]\n",
    "        y_v = y[split['val']]\n",
    "        \n",
    "        # Select well labels for validation data\n",
    "        well_v = well[split['val']]\n",
    "\n",
    "        # Train and test\n",
    "        y_v_hat = train_and_test(X_tr, y_tr, X_v, well_v, getClf(clfType,param))\n",
    "        \n",
    "        # Score\n",
    "        score = f1_score(y_v, y_v_hat, average='micro')\n",
    "        score_split.append(score)\n",
    "        #print('Split: {0}, Score = {1:0.3f}'.format(split_list.index(split),score))\n",
    "    # Average score for this param\n",
    "    score_param.append(np.mean(score_split))\n",
    "    print('Average F1 score = %.3f %s' % (score_param[-1], param))"
   ]
  },
  {
   "cell_type": "code",
   "execution_count": null,
   "metadata": {
    "collapsed": false
   },
   "outputs": [],
   "source": [
    "# Best set of parameters\n",
    "best_idx = np.argmax(score_param)\n",
    "param_best = param_grid[best_idx]\n",
    "score_best = score_param[best_idx]\n",
    "print('\\nBest F1 score = %.3f %s' % (score_best, param_best))"
   ]
  },
  {
   "cell_type": "code",
   "execution_count": null,
   "metadata": {
    "collapsed": true
   },
   "outputs": [],
   "source": [
    "# ## Predict labels on test data\n",
    "# Let us now apply the selected classification technique to test data."
   ]
  },
  {
   "cell_type": "code",
   "execution_count": null,
   "metadata": {
    "collapsed": false
   },
   "outputs": [],
   "source": [
    "# Training data\n",
    "X_tr = X_aug\n",
    "y_tr = y\n",
    "\n",
    "# Prepare test data\n",
    "well_ts = test_data['Well Name'].values\n",
    "depth_ts = test_data['Depth'].values\n",
    "X_ts = test_data[feature_names].values\n",
    "\n",
    "# Augment Test data features\n",
    "X_ts, padded_rows = augment_features(X_ts, well_ts,depth_ts,N_neig=N_neig, features=feature_indices)"
   ]
  },
  {
   "cell_type": "code",
   "execution_count": null,
   "metadata": {
    "collapsed": false
   },
   "outputs": [],
   "source": [
    "# Predict test labels\n",
    "y_ts_hat = train_and_test(X_tr, y_tr, X_ts, well_ts, getClf(clfType,param_best))\n",
    "\n",
    "# Save predicted labels\n",
    "test_data['Facies'] = y_ts_hat\n",
    "test_data.to_csv('esa_predicted_facies_{0}_sub01.csv'.format(clfType))\n"
   ]
  },
  {
   "cell_type": "code",
   "execution_count": null,
   "metadata": {
    "collapsed": false
   },
   "outputs": [],
   "source": [
    "# Plot predicted labels\n",
    "make_facies_log_plot(\n",
    "    test_data[test_data['Well Name'] == 'STUART'],\n",
    "    facies_colors=facies_colors)\n",
    "\n",
    "make_facies_log_plot(\n",
    "    test_data[test_data['Well Name'] == 'CRAWFORD'],\n",
    "    facies_colors=facies_colors)\n",
    "mpl.rcParams.update(inline_rc)\n"
   ]
  },
  {
   "cell_type": "code",
   "execution_count": null,
   "metadata": {
    "collapsed": true
   },
   "outputs": [],
   "source": []
  }
 ],
 "metadata": {
  "kernelspec": {
   "display_name": "Python 2",
   "language": "python",
   "name": "python2"
  },
  "language_info": {
   "codemirror_mode": {
    "name": "ipython",
    "version": 2
   },
   "file_extension": ".py",
   "mimetype": "text/x-python",
   "name": "python",
   "nbconvert_exporter": "python",
   "pygments_lexer": "ipython2",
   "version": "2.7.12"
  }
 },
 "nbformat": 4,
 "nbformat_minor": 2
}
